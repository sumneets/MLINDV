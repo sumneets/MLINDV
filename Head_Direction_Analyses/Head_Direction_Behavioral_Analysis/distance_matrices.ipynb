{
 "cells": [
  {
   "cell_type": "code",
   "execution_count": 1,
   "metadata": {},
   "outputs": [],
   "source": [
    "import numpy as np\n",
    "import seaborn as sns\n",
    "import matplotlib.pylab as plt\n",
    "import pandas as pd"
   ]
  },
  {
   "cell_type": "code",
   "execution_count": 83,
   "metadata": {},
   "outputs": [],
   "source": [
    "# dat = pd.read_csv('~/Desktop/MLINDIV/beta_series/decision_point/all_runs_dis.csv',index_col=0)\n",
    "#dat = pd.read_csv('~/Desktop/MLINDIV/beta_series/decision_point/all_exploration.csv',index_col=0)\n",
    "# dat = pd.read_csv('~/Desktop/MLINDIV/beta_series/decision_point/all_runs_exploration.csv',index_col=0)\n",
    "# dat = pd.read_csv('~/Desktop/MLINDIV/beta_series/path_direction/all_runs_path.csv',index_col=0)\n",
    "#dat = pd.read_csv('~/Desktop/MLINDIV/beta_series/path_direction/exploration_path.csv',index_col=0)\n",
    "#dat = pd.read_csv('~/Desktop/MLINDIV/beta_series/path_direction/all_runs_exploration_path.csv',index_col=0)\n",
    "dat = pd.read_csv('~/Desktop/MLINDIV/beta_series/summary_path_decision_directions.csv',index_col=0)"
   ]
  },
  {
   "cell_type": "code",
   "execution_count": 84,
   "metadata": {},
   "outputs": [],
   "source": [
    "#dat = dat[:4]"
   ]
  },
  {
   "cell_type": "code",
   "execution_count": 85,
   "metadata": {},
   "outputs": [
    {
     "data": {
      "text/html": [
       "<div>\n",
       "<style scoped>\n",
       "    .dataframe tbody tr th:only-of-type {\n",
       "        vertical-align: middle;\n",
       "    }\n",
       "\n",
       "    .dataframe tbody tr th {\n",
       "        vertical-align: top;\n",
       "    }\n",
       "\n",
       "    .dataframe thead th {\n",
       "        text-align: right;\n",
       "    }\n",
       "</style>\n",
       "<table border=\"1\" class=\"dataframe\">\n",
       "  <thead>\n",
       "    <tr style=\"text-align: right;\">\n",
       "      <th></th>\n",
       "      <th>4_directions</th>\n",
       "      <th>E&amp;N</th>\n",
       "      <th>E&amp;W</th>\n",
       "      <th>E&amp;S</th>\n",
       "      <th>S&amp;W</th>\n",
       "      <th>S&amp;N</th>\n",
       "      <th>W&amp;N</th>\n",
       "    </tr>\n",
       "  </thead>\n",
       "  <tbody>\n",
       "    <tr>\n",
       "      <td>decision_explore</td>\n",
       "      <td>0.06</td>\n",
       "      <td>0.57</td>\n",
       "      <td>0.55</td>\n",
       "      <td>0.56</td>\n",
       "      <td>0.51</td>\n",
       "      <td>0.51</td>\n",
       "      <td>0.51</td>\n",
       "    </tr>\n",
       "    <tr>\n",
       "      <td>decision_run</td>\n",
       "      <td>0.14</td>\n",
       "      <td>0.56</td>\n",
       "      <td>0.53</td>\n",
       "      <td>0.55</td>\n",
       "      <td>0.52</td>\n",
       "      <td>0.50</td>\n",
       "      <td>0.52</td>\n",
       "    </tr>\n",
       "    <tr>\n",
       "      <td>decision_all</td>\n",
       "      <td>0.10</td>\n",
       "      <td>0.55</td>\n",
       "      <td>0.54</td>\n",
       "      <td>0.56</td>\n",
       "      <td>0.52</td>\n",
       "      <td>0.50</td>\n",
       "      <td>0.52</td>\n",
       "    </tr>\n",
       "    <tr>\n",
       "      <td>path_explore</td>\n",
       "      <td>0.33</td>\n",
       "      <td>0.58</td>\n",
       "      <td>0.59</td>\n",
       "      <td>0.66</td>\n",
       "      <td>0.58</td>\n",
       "      <td>0.59</td>\n",
       "      <td>0.52</td>\n",
       "    </tr>\n",
       "    <tr>\n",
       "      <td>path_run</td>\n",
       "      <td>0.31</td>\n",
       "      <td>0.57</td>\n",
       "      <td>0.54</td>\n",
       "      <td>0.58</td>\n",
       "      <td>0.55</td>\n",
       "      <td>0.53</td>\n",
       "      <td>0.53</td>\n",
       "    </tr>\n",
       "    <tr>\n",
       "      <td>path_all</td>\n",
       "      <td>0.31</td>\n",
       "      <td>0.58</td>\n",
       "      <td>0.56</td>\n",
       "      <td>0.61</td>\n",
       "      <td>0.56</td>\n",
       "      <td>0.55</td>\n",
       "      <td>0.51</td>\n",
       "    </tr>\n",
       "  </tbody>\n",
       "</table>\n",
       "</div>"
      ],
      "text/plain": [
       "                  4_directions   E&N   E&W   E&S   S&W   S&N   W&N\n",
       "decision_explore          0.06  0.57  0.55  0.56  0.51  0.51  0.51\n",
       "decision_run              0.14  0.56  0.53  0.55  0.52  0.50  0.52\n",
       "decision_all              0.10  0.55  0.54  0.56  0.52  0.50  0.52\n",
       "path_explore              0.33  0.58  0.59  0.66  0.58  0.59  0.52\n",
       "path_run                  0.31  0.57  0.54  0.58  0.55  0.53  0.53\n",
       "path_all                  0.31  0.58  0.56  0.61  0.56  0.55  0.51"
      ]
     },
     "execution_count": 85,
     "metadata": {},
     "output_type": "execute_result"
    }
   ],
   "source": [
    "dat"
   ]
  },
  {
   "cell_type": "code",
   "execution_count": 87,
   "metadata": {},
   "outputs": [
    {
     "data": {
      "image/png": "[encoded data removed]",
      "text/plain": [
       "<Figure size 432x288 with 2 Axes>"
      ]
     },
     "metadata": {},
     "output_type": "display_data"
    }
   ],
   "source": [
    "mask = np.zeros_like(dat)\n",
    "mask[np.triu_indices_from(mask)] = True\n",
    "with sns.axes_style(\"white\"):\n",
    "    #ax = sns.heatmap(dat, mask=mask, vmax=.7,vmin=.5, square=True,  cmap=\"YlGnBu\", annot=True)\n",
    "    ax = sns.heatmap(dat, vmax=.7,vmin=.5, square=True,  cmap=\"YlGnBu\", annot=True)\n",
    "    ax.set_ylim(len(dat)+0.5, 0)\n",
    "    plt.savefig('summary_path_decision_directions.png')\n",
    "    plt.show()\n",
    "    "
   ]
  },
  {
   "cell_type": "code",
   "execution_count": null,
   "metadata": {},
   "outputs": [],
   "source": []
  }
 ],
 "metadata": {
  "kernelspec": {
   "display_name": "Python 3",
   "language": "python",
   "name": "python3"
  },
  "language_info": {
   "codemirror_mode": {
    "name": "ipython",
    "version": 3
   },
   "file_extension": ".py",
   "mimetype": "text/x-python",
   "name": "python",
   "nbconvert_exporter": "python",
   "pygments_lexer": "ipython3",
   "version": "3.7.4"
  }
 },
 "nbformat": 4,
 "nbformat_minor": 4
}
